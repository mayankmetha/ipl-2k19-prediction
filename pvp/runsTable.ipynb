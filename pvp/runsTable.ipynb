{
 "cells": [
  {
   "cell_type": "code",
   "execution_count": 1,
   "metadata": {},
   "outputs": [],
   "source": [
    "import os\n",
    "import numpy as np\n",
    "import pandas as pd"
   ]
  },
  {
   "cell_type": "code",
   "execution_count": 2,
   "metadata": {},
   "outputs": [],
   "source": [
    "df1 = pd.read_csv(os.getcwd()+'/../datasets/kaggle/deliveries.csv')\n",
    "df1.drop(columns=['over','match_id','inning','non_striker','dismissal_kind','batting_team','bowling_team','fielder','wide_runs','bye_runs','legbye_runs','noball_runs','penalty_runs','extra_runs','total_runs','is_super_over'],inplace=True)\n",
    "df1.drop(df1[df1.batsman_runs > 6].index, inplace=True)"
   ]
  },
  {
   "cell_type": "code",
   "execution_count": 3,
   "metadata": {},
   "outputs": [],
   "source": [
    "columns=['batsmen','bowler','delivery','0s','1s','2s','3s','4s','5s','6s']\n",
    "fout = open(os.getcwd()+'/../datasets/kaggle/runsSplit.csv','w')\n",
    "fout.write(','.join(columns)+\"\\n\")\n",
    "\n",
    "a = df1.groupby(['batsman'])\n",
    "batsmen = None\n",
    "for key1, item1 in a:\n",
    "    batsmen = key1\n",
    "    bowler = None\n",
    "    delivery = 0\n",
    "    runs = [0,0,0,0,0,0,0]\n",
    "    b = a.get_group(key1).groupby(['bowler'])\n",
    "    for key2, item2 in b:\n",
    "        bowler = key2\n",
    "        #e = b.get_group(key2).groupby(['player_dismissed'])\n",
    "        #for key5, item5 in e:\n",
    "        #    wickets = e['player_dismissed'].get_group(key5).count()\n",
    "        c = b.get_group(key2).groupby(['ball'])\n",
    "        for key3, item3 in c:\n",
    "            delivery = key3\n",
    "            d = c.get_group(key3).groupby(['batsman_runs'])\n",
    "            for key4, item4 in d:\n",
    "                runs[key4] = d['batsman_runs'].get_group(key4).count()\n",
    "            fout.write(batsmen+\",\"+bowler+\",\"+str(delivery)+\",\")\n",
    "            fout.write(\",\".join(str(_) for _ in runs))\n",
    "            fout.write(\"\\n\")\n",
    "\n",
    "fout.close()"
   ]
  },
  {
   "cell_type": "code",
   "execution_count": 4,
   "metadata": {},
   "outputs": [],
   "source": [
    "columns=['batsmen','bowler','balls','wickets']\n",
    "fout = open(os.getcwd()+'/../datasets/kaggle/ballSplit.csv','w')\n",
    "fout.write(','.join(columns)+\"\\n\")\n",
    "\n",
    "a = df1.groupby(['batsman'])\n",
    "batsmen = None\n",
    "for key1, item1 in a:\n",
    "    batsmen = key1\n",
    "    bowler = None\n",
    "    balls = 0\n",
    "    wickets = 0\n",
    "    b = a.get_group(key1).groupby(['bowler'])\n",
    "    for key2, item2 in b:\n",
    "        bowler = key2\n",
    "        balls = b['batsman_runs'].get_group(key2).count()\n",
    "        c = b.get_group(key2).groupby(['player_dismissed'])\n",
    "        for key3, item3 in c:\n",
    "            wickets = c['player_dismissed'].get_group(key3).count()\n",
    "        fout.write(batsmen+\",\"+bowler+\",\"+str(balls)+\",\"+str(wickets)+\"\\n\")    \n",
    "\n",
    "fout.close()"
   ]
  }
 ],
 "metadata": {
  "kernelspec": {
   "display_name": "Python 3",
   "language": "python",
   "name": "python3"
  },
  "language_info": {
   "codemirror_mode": {
    "name": "ipython",
    "version": 3
   },
   "file_extension": ".py",
   "mimetype": "text/x-python",
   "name": "python",
   "nbconvert_exporter": "python",
   "pygments_lexer": "ipython3",
   "version": "3.6.7"
  }
 },
 "nbformat": 4,
 "nbformat_minor": 2
}
