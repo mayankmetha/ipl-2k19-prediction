{
 "cells": [
  {
   "cell_type": "code",
   "execution_count": 1,
   "metadata": {},
   "outputs": [],
   "source": [
    "import os\n",
    "import numpy as np\n",
    "import pandas as pd"
   ]
  },
  {
   "cell_type": "code",
   "execution_count": 2,
   "metadata": {},
   "outputs": [],
   "source": [
    "df1 = pd.read_csv(os.getcwd()+'/../datasets/kaggle/runsSplit.csv')"
   ]
  },
  {
   "cell_type": "code",
   "execution_count": 3,
   "metadata": {},
   "outputs": [],
   "source": [
    "df1['1s'] = df1['1s']/df1['balls']\n",
    "df1['2s'] = df1['2s']/df1['balls']\n",
    "df1['3s'] = df1['3s']/df1['balls']\n",
    "df1['4s'] = df1['4s']/df1['balls']\n",
    "df1['5s'] = df1['5s']/df1['balls']\n",
    "df1['6s'] = df1['6s']/df1['balls']\n",
    "df1['wickets'] = df1['wickets']/df1['balls']\n",
    "df1.drop(columns=['0s','balls'],inplace=True)"
   ]
  },
  {
   "cell_type": "code",
   "execution_count": 4,
   "metadata": {},
   "outputs": [],
   "source": [
    "df1.to_csv(os.getcwd()+'/../datasets/kaggle/prob.csv',index=False,sep=',')"
   ]
  }
 ],
 "metadata": {
  "kernelspec": {
   "display_name": "Python 3",
   "language": "python",
   "name": "python3"
  },
  "language_info": {
   "codemirror_mode": {
    "name": "ipython",
    "version": 3
   },
   "file_extension": ".py",
   "mimetype": "text/x-python",
   "name": "python",
   "nbconvert_exporter": "python",
   "pygments_lexer": "ipython3",
   "version": "3.6.7"
  }
 },
 "nbformat": 4,
 "nbformat_minor": 2
}
