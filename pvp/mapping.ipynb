{
 "cells": [
  {
   "cell_type": "code",
   "execution_count": 1,
   "metadata": {},
   "outputs": [
    {
     "data": {
      "text/plain": [
       "50"
      ]
     },
     "execution_count": 1,
     "metadata": {},
     "output_type": "execute_result"
    }
   ],
   "source": [
    "import os\n",
    "import numpy as np\n",
    "import pandas as pd\n",
    "\n",
    "df1 = pd.read_csv(os.getcwd()+'/../out/pvp/dataset')\n",
    "columns=['batsmen','bowler','0s','1s','2s','3s','4s','5s','6s','balls','wickets']\n",
    "outFile = os.getcwd()+'/../out/pvp/aggregate'\n",
    "f = open(outFile,'w')\n",
    "f.write(\",\".join(columns)+\"\\n\")\n",
    "\n",
    "a = df1.groupby('batsmen')\n",
    "batsmen = None\n",
    "for key1, item1 in a:\n",
    "    batsmen = str(key1)\n",
    "    bowler = None\n",
    "    zero = None\n",
    "    one = None\n",
    "    two = None\n",
    "    three = None\n",
    "    four = None\n",
    "    five = None\n",
    "    six = None\n",
    "    balls = None\n",
    "    wickets = None\n",
    "    b = a.get_group(key1).groupby(['bowler'])\n",
    "    for key2, item2 in b:\n",
    "        bowler = str(key2)\n",
    "        zero = str(b.get_group(key2)['0s'].sum())\n",
    "        one = str(b.get_group(key2)['1s'].sum())\n",
    "        two = str(b.get_group(key2)['2s'].sum())\n",
    "        three = str(b.get_group(key2)['3s'].sum())\n",
    "        four = str(b.get_group(key2)['4s'].sum())\n",
    "        five = str(b.get_group(key2)['5s'].sum())\n",
    "        six = str(b.get_group(key2)['6s'].sum())\n",
    "        balls = str(b.get_group(key2)['balls'].sum())\n",
    "        wickets = str(b.get_group(key2)['wickets'].sum())\n",
    "        f.write(batsmen+\",\"+bowler+\",\"+zero+\",\"+one+\",\"+two+\",\"+three+\",\"+four+\",\"+five+\",\"+six+\",\"+balls+\",\"+wickets+\"\\n\")\n",
    "\n",
    "f.close()"
   ]
  }
 ],
 "metadata": {
  "kernelspec": {
   "display_name": "Python 3",
   "language": "python",
   "name": "python3"
  },
  "language_info": {
   "codemirror_mode": {
    "name": "ipython",
    "version": 3
   },
   "file_extension": ".py",
   "mimetype": "text/x-python",
   "name": "python",
   "nbconvert_exporter": "python",
   "pygments_lexer": "ipython3",
   "version": "3.6.7"
  }
 },
 "nbformat": 4,
 "nbformat_minor": 2
}
