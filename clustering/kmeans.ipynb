{
 "cells": [
  {
   "cell_type": "code",
   "execution_count": null,
   "metadata": {},
   "outputs": [],
   "source": [
    "import os\n",
    "import pandas as pd\n",
    "import numpy as np\n",
    "from sklearn.cluster import KMeans"
   ]
  },
  {
   "cell_type": "code",
   "execution_count": null,
   "metadata": {},
   "outputs": [],
   "source": [
    "bat = pd.read_csv(os.getcwd()+'/../datasets/PlayerStatsIPL/bat.csv')\n",
    "batC = pd.DataFrame(bat.values[:, 3:])\n",
    "batC.replace('-',0,inplace=True)\n",
    "kmeans = KMeans(n_clusters=10).fit(batC)\n",
    "batC.head()"
   ]
  },
  {
   "cell_type": "code",
   "execution_count": null,
   "metadata": {},
   "outputs": [],
   "source": [
    "bat['Cluster'] = kmeans.labels_\n",
    "bat.head()"
   ]
  },
  {
   "cell_type": "code",
   "execution_count": null,
   "metadata": {},
   "outputs": [],
   "source": [
    "out = os.getcwd()+'/../out/clustering/bat.csv'\n",
    "exp = pd.DataFrame(bat.values[:, 1])\n",
    "exp['Cluster'] = kmeans.labels_\n",
    "exp.to_csv(out,index=False,sep=':',header=False)"
   ]
  },
  {
   "cell_type": "code",
   "execution_count": null,
   "metadata": {},
   "outputs": [],
   "source": [
    "bowl = pd.read_csv(os.getcwd()+'/../datasets/PlayerStatsIPL/bowl.csv')\n",
    "bowl = bowl.drop(['BBM'],axis=1)\n",
    "bowlC = pd.DataFrame(bowl.values[:, 3:])\n",
    "bowlC.replace('-',0,inplace=True)\n",
    "kmeans = KMeans(n_clusters=10).fit(bowlC)"
   ]
  },
  {
   "cell_type": "code",
   "execution_count": null,
   "metadata": {},
   "outputs": [],
   "source": [
    "bowl['Cluster'] = kmeans.labels_\n",
    "print(bowl[['Team','Player','Cluster']])"
   ]
  },
  {
   "cell_type": "code",
   "execution_count": null,
   "metadata": {},
   "outputs": [],
   "source": [
    "out = os.getcwd()+'/../out/clustering/bowl.csv'\n",
    "exp = pd.DataFrame(bowl.values[:, 1])\n",
    "exp['Cluster'] = kmeans.labels_\n",
    "exp.to_csv(out,index=False,sep=':',header=False)"
   ]
  }
 ],
 "metadata": {
  "kernelspec": {
   "display_name": "Python 3",
   "language": "python",
   "name": "python3"
  },
  "language_info": {
   "codemirror_mode": {
    "name": "ipython",
    "version": 3
   },
   "file_extension": ".py",
   "mimetype": "text/x-python",
   "name": "python",
   "nbconvert_exporter": "python",
   "pygments_lexer": "ipython3",
   "version": "3.6.7"
  }
 },
 "nbformat": 4,
 "nbformat_minor": 2
}
